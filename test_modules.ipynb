{
 "cells": [
  {
   "cell_type": "code",
   "execution_count": 1,
   "id": "429e14a9-2ee7-45dc-871b-47b23d7fa448",
   "metadata": {},
   "outputs": [],
   "source": [
    "import torch\n",
    "import torchvision\n",
    "import torch.nn as nn\n",
    "from tqdm.notebook import tqdm"
   ]
  },
  {
   "cell_type": "code",
   "execution_count": 2,
   "id": "2da2bc00-9fcc-4f3f-95ca-5f38bb0c2f9c",
   "metadata": {},
   "outputs": [],
   "source": [
    "resnet18 = torchvision.models.resnet18(pretrained=True)\n",
    "modules = list(resnet18.children())[:-1]\n",
    "img_encoder = nn.Sequential(*modules)\n",
    "for p in img_encoder.parameters():\n",
    "    p.requires_grad = False"
   ]
  },
  {
   "cell_type": "markdown",
   "id": "dea163f4-c2e9-4d05-a441-e60b64ef1462",
   "metadata": {},
   "source": [
    "# Test pretrained model"
   ]
  },
  {
   "cell_type": "code",
   "execution_count": 3,
   "id": "12020fdf-461d-4c00-ac57-05f84b87b0a1",
   "metadata": {},
   "outputs": [
    {
     "name": "stderr",
     "output_type": "stream",
     "text": [
      "[W NNPACK.cpp:51] Could not initialize NNPACK! Reason: Unsupported hardware.\n"
     ]
    },
    {
     "data": {
      "text/plain": [
       "torch.Size([1, 512, 1, 1])"
      ]
     },
     "execution_count": 3,
     "metadata": {},
     "output_type": "execute_result"
    }
   ],
   "source": [
    "img = torch.ones(1, 3, 9,9)\n",
    "img_encoder.eval()\n",
    "out = img_encoder(img)\n",
    "out.size()"
   ]
  },
  {
   "cell_type": "markdown",
   "id": "4b4128d0-cd93-4063-bcff-eb0344664159",
   "metadata": {},
   "source": [
    "# Test Env"
   ]
  },
  {
   "cell_type": "code",
   "execution_count": 2,
   "id": "9706b04c-9486-421c-9d93-e22e4333ae01",
   "metadata": {},
   "outputs": [],
   "source": [
    "from env import MazeEnv\n",
    "task = MazeEnv(length=9)\n",
    "img = task.img()"
   ]
  },
  {
   "cell_type": "code",
   "execution_count": 3,
   "id": "10cd4049-d337-4de2-b7a4-cbf1a02227ec",
   "metadata": {},
   "outputs": [
    {
     "data": {
      "text/plain": [
       "<matplotlib.image.AxesImage at 0x7ff240d6a820>"
      ]
     },
     "execution_count": 3,
     "metadata": {},
     "output_type": "execute_result"
    },
    {
     "data": {
      "image/png": "[encoded data removed]",
      "text/plain": [
       "<Figure size 432x288 with 1 Axes>"
      ]
     },
     "metadata": {
      "needs_background": "light"
     },
     "output_type": "display_data"
    }
   ],
   "source": [
    "import matplotlib.pyplot as plt\n",
    "# img = torch.ones(1, 3, 9,9)\n",
    "# img = img.squeeze(0)\n",
    "plt.imshow(img.permute(1,2,0))"
   ]
  },
  {
   "cell_type": "code",
   "execution_count": 5,
   "id": "fb8b908b-16d2-4f47-a357-7d1c830e170f",
   "metadata": {},
   "outputs": [
    {
     "data": {
      "text/plain": [
       "<matplotlib.image.AxesImage at 0x7ff253cba9d0>"
      ]
     },
     "execution_count": 5,
     "metadata": {},
     "output_type": "execute_result"
    },
    {
     "data": {
      "image/png": "[encoded data removed]",
      "text/plain": [
       "<Figure size 432x288 with 1 Axes>"
      ]
     },
     "metadata": {
      "needs_background": "light"
     },
     "output_type": "display_data"
    }
   ],
   "source": [
    "from env import Name\n",
    "action = Name.up\n",
    "task.step(action)\n",
    "plt.imshow(task.img().permute(1,2,0))"
   ]
  },
  {
   "cell_type": "markdown",
   "id": "b6043c87-fabb-43e3-a0ab-43a831345d89",
   "metadata": {},
   "source": [
    "# Test model"
   ]
  },
  {
   "cell_type": "code",
   "execution_count": 7,
   "id": "321699d3-b9c1-46cf-8630-accf13007b77",
   "metadata": {},
   "outputs": [],
   "source": [
    "from model import LSTM\n",
    "rnn = LSTM(hidden_size=256)\n"
   ]
  },
  {
   "cell_type": "code",
   "execution_count": 3,
   "id": "a027b2ca-fb87-4512-9c8b-c4139ee94bc2",
   "metadata": {},
   "outputs": [
    {
     "name": "stderr",
     "output_type": "stream",
     "text": [
      "[W NNPACK.cpp:51] Could not initialize NNPACK! Reason: Unsupported hardware.\n"
     ]
    }
   ],
   "source": [
    "img = torch.ones(1, 3, 9,9)\n",
    "img_encoder.eval()\n",
    "feature = img_encoder(img)"
   ]
  },
  {
   "cell_type": "code",
   "execution_count": 5,
   "id": "c2086534-430b-4cc4-8895-9cd1a61dfe29",
   "metadata": {},
   "outputs": [
    {
     "data": {
      "text/plain": [
       "torch.Size([1, 1, 512])"
      ]
     },
     "execution_count": 5,
     "metadata": {},
     "output_type": "execute_result"
    }
   ],
   "source": [
    "feature = feature.view(1, 1, -1)\n",
    "feature.size()"
   ]
  },
  {
   "cell_type": "code",
   "execution_count": 9,
   "id": "be3d2c07-0a3f-4b4a-8b4d-808f60c3fdce",
   "metadata": {},
   "outputs": [
    {
     "data": {
      "text/plain": [
       "tensor([[[ 0.0312, -0.0618,  0.0292, -0.1300]]], grad_fn=<AddBackward0>)"
      ]
     },
     "execution_count": 9,
     "metadata": {},
     "output_type": "execute_result"
    }
   ],
   "source": [
    "action = torch.zeros(1, 1, 4)\n",
    "logit, mem_state = rnn(feature, action)\n",
    "logit"
   ]
  }
 ],
 "metadata": {
  "kernelspec": {
   "display_name": "Python 3 (ipykernel)",
   "language": "python",
   "name": "python3"
  },
  "language_info": {
   "codemirror_mode": {
    "name": "ipython",
    "version": 3
   },
   "file_extension": ".py",
   "mimetype": "text/x-python",
   "name": "python",
   "nbconvert_exporter": "python",
   "pygments_lexer": "ipython3",
   "version": "3.8.13"
  }
 },
 "nbformat": 4,
 "nbformat_minor": 5
}
