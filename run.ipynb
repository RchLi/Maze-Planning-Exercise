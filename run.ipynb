{
 "cells": [
  {
   "cell_type": "code",
   "execution_count": 1,
   "id": "c999a9aa-4005-4371-bdf0-7b00edbd3105",
   "metadata": {},
   "outputs": [],
   "source": [
    "import torch\n",
    "import torchvision\n",
    "from torch.nn import functional as F\n",
    "import torch.nn as nn\n",
    "from env import Name, MazeEnv\n",
    "from model import LSTM\n",
    "from tqdm import tqdm\n",
    "from tqdm.notebook import tqdm_notebook\n",
    "import matplotlib.pyplot as plt"
   ]
  },
  {
   "cell_type": "markdown",
   "id": "eab7f7d5-2e0b-453e-b51a-d8ed13fbb877",
   "metadata": {},
   "source": [
    "# Load pretrained resnet"
   ]
  },
  {
   "cell_type": "code",
   "execution_count": 39,
   "id": "e1b4d86a-034f-41ea-9f93-a0f475a94b7e",
   "metadata": {},
   "outputs": [],
   "source": [
    "resnet18 = torchvision.models.resnet18(pretrained=True)\n",
    "modules = list(resnet18.children())[:-1]\n",
    "img_encoder = nn.Sequential(*modules)\n",
    "img_encoder.eval()\n",
    "for p in img_encoder.parameters():\n",
    "    p.requires_grad = False\n"
   ]
  },
  {
   "cell_type": "markdown",
   "id": "281f4f64-38da-4771-b33a-718255cda5c0",
   "metadata": {},
   "source": [
    "# Train"
   ]
  },
  {
   "cell_type": "code",
   "execution_count": 46,
   "id": "257981ce-85fc-4630-9bdc-2bfac254d868",
   "metadata": {},
   "outputs": [
    {
     "name": "stderr",
     "output_type": "stream",
     "text": [
      "100%|█████████████████████████████████████| 20000/20000 [09:26<00:00, 35.31it/s]\n"
     ]
    }
   ],
   "source": [
    "lr = 1e-4\n",
    "\n",
    "agent = LSTM(hidden_size=256)\n",
    "optimizer = torch.optim.RMSprop(agent.parameters(), lr=lr)\n",
    "\n",
    "criterion = nn.CrossEntropyLoss()\n",
    "\n",
    "losses = []\n",
    "n_train = 20000\n",
    "\n",
    "agent.train()\n",
    "mem_state = agent.get_init_states()\n",
    "for i in tqdm(range(n_train)):\n",
    "    task = MazeEnv()\n",
    "    solution = task.get_solution()\n",
    "    if solution == None:\n",
    "        continue\n",
    "  #  mem_state = agent.get_init_states()\n",
    "    mem_state = mem_state[0].detach(), mem_state[1].detach()\n",
    "    p_action = torch.zeros([1, 1, 4])\n",
    "    loss = 0\n",
    "    for target in solution:\n",
    "        img = task.img().unsqueeze(0)\n",
    "        feature = img_encoder(img).view(1, 1, -1)\n",
    "        logit, mem_state = agent(feature, p_action, mem_state)\n",
    "        logit = logit.squeeze(0)\n",
    "        \n",
    "        loss += criterion(logit, torch.tensor([target]))\n",
    "        \n",
    "        p_action = torch.eye(4)[int(target)].view(1, 1, -1)\n",
    "        task.step(int(target))\n",
    "        \n",
    "    losses.append(loss.detach())\n",
    "    optimizer.zero_grad()\n",
    "    loss.backward(retain_graph=True)\n",
    "    optimizer.step()\n",
    "    \n",
    "    if (i + 1) % 1000 == 0:\n",
    "        torch.save(agent.state_dict(), 'checkpoint/rnn_%d' % (i + 1))\n",
    "        "
   ]
  },
  {
   "cell_type": "code",
   "execution_count": 47,
   "id": "e515c215-3b0a-427c-8d66-ecd117bcb6b6",
   "metadata": {},
   "outputs": [
    {
     "data": {
      "text/plain": [
       "[<matplotlib.lines.Line2D at 0x7fd5985d1af0>]"
      ]
     },
     "execution_count": 47,
     "metadata": {},
     "output_type": "execute_result"
    },
    {
     "data": {
      "image/png": "[encoded data removed]",
      "text/plain": [
       "<Figure size 432x288 with 1 Axes>"
      ]
     },
     "metadata": {
      "needs_background": "light"
     },
     "output_type": "display_data"
    }
   ],
   "source": [
    "plt.plot(losses)"
   ]
  },
  {
   "cell_type": "markdown",
   "id": "00147468-3cac-49d6-a4b7-ced3a44af126",
   "metadata": {},
   "source": [
    "# Test\n",
    "Random model: 4%"
   ]
  },
  {
   "cell_type": "code",
   "execution_count": 6,
   "id": "7a52983e-5265-4e76-9008-059435ec2f43",
   "metadata": {},
   "outputs": [],
   "source": [
    "testset = [MazeEnv() for _ in range(500)]"
   ]
  },
  {
   "cell_type": "code",
   "execution_count": null,
   "id": "5efba844-b507-446d-aace-82a387d5ffe7",
   "metadata": {},
   "outputs": [
    {
     "name": "stderr",
     "output_type": "stream",
     "text": [
      " 42%|█████████████████▋                        | 42/100 [00:02<00:03, 15.61it/s]"
     ]
    }
   ],
   "source": [
    "agent = LSTM(hidden_size=256)\n",
    "path = 'checkpoint/rnn_2000'\n",
    "agent.load_state_dict(torch.load(path))\n",
    "agent.eval()\n",
    "\n",
    "limit = 15\n",
    "correct = 0\n",
    "n_test = 100\n",
    "for i in tqdm(range(n_test)):\n",
    "    task = testset[i]\n",
    "    mem_state = agent.get_init_states()\n",
    "    p_action = torch.zeros([1, 1, 4])\n",
    "    for _ in range(limit):\n",
    "        img = task.img().unsqueeze(0)\n",
    "        feature = img_encoder(img).view(1, 1, -1)\n",
    "        logit, mem_state = agent(feature, p_action, mem_state)\n",
    "        # logit = logit.squeeze(0)\n",
    "        # prob = F.softmax(logit, dim=-1)\n",
    "        # action = prob.multinomial(num_samples=1).item()      \n",
    "        logit = logit.flatten()\n",
    "        action = logit.argmax().item()\n",
    "        reward = task.step(action)\n",
    "        if reward == 0:\n",
    "            correct += 1\n",
    "            break\n",
    "        p_action = torch.eye(4)[action].view(1, 1, -1)\n",
    "    task.reset()\n",
    "print('Success rate %.2f%%' % (correct / n_test * 100) )\n",
    "        "
   ]
  },
  {
   "cell_type": "code",
   "execution_count": 66,
   "id": "31f60a08-c70a-4a90-90dd-7bb60dd15adf",
   "metadata": {},
   "outputs": [
    {
     "data": {
      "text/plain": [
       "<matplotlib.image.AxesImage at 0x7feb680c65b0>"
      ]
     },
     "execution_count": 66,
     "metadata": {},
     "output_type": "execute_result"
    },
    {
     "data": {
      "image/png": "[encoded data removed]",
      "text/plain": [
       "<Figure size 432x288 with 1 Axes>"
      ]
     },
     "metadata": {
      "needs_background": "light"
     },
     "output_type": "display_data"
    }
   ],
   "source": [
    "plt.imshow(img.squeeze(0).permute(1,2,0))"
   ]
  },
  {
   "cell_type": "code",
   "execution_count": 62,
   "id": "bfcc17ca-074a-4377-a636-c9c90be779b3",
   "metadata": {},
   "outputs": [
    {
     "data": {
      "text/plain": [
       "tensor([[[0., 0., 1., 0.]]])"
      ]
     },
     "execution_count": 62,
     "metadata": {},
     "output_type": "execute_result"
    }
   ],
   "source": [
    "p_action"
   ]
  },
  {
   "cell_type": "markdown",
   "id": "f303800f-ebeb-4c63-92cc-9af0ef6c2b02",
   "metadata": {},
   "source": [
    "# Other\n"
   ]
  },
  {
   "cell_type": "code",
   "execution_count": 96,
   "id": "8facafcd-2904-4c72-8f1a-b4d3de5210bf",
   "metadata": {},
   "outputs": [
    {
     "name": "stdout",
     "output_type": "stream",
     "text": [
      "0.851\n"
     ]
    }
   ],
   "source": [
    "a = 0\n",
    "total = 0\n",
    "for i in range(1000):\n",
    "    task = MazeEnv()\n",
    "    solution = task.get_solution()\n",
    "    if solution != None:\n",
    "        total += 1\n",
    "print(total / 1000)\n"
   ]
  }
 ],
 "metadata": {
  "kernelspec": {
   "display_name": "Python 3 (ipykernel)",
   "language": "python",
   "name": "python3"
  },
  "language_info": {
   "codemirror_mode": {
    "name": "ipython",
    "version": 3
   },
   "file_extension": ".py",
   "mimetype": "text/x-python",
   "name": "python",
   "nbconvert_exporter": "python",
   "pygments_lexer": "ipython3",
   "version": "3.8.13"
  }
 },
 "nbformat": 4,
 "nbformat_minor": 5
}
