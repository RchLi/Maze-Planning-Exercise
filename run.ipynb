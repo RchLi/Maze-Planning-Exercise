{
 "cells": [
  {
   "cell_type": "code",
   "execution_count": 1,
   "id": "c999a9aa-4005-4371-bdf0-7b00edbd3105",
   "metadata": {},
   "outputs": [],
   "source": [
    "import torch\n",
    "import torchvision\n",
    "from torch.nn import functional as F\n",
    "import torch.nn as nn\n",
    "from env import Name, MazeEnv\n",
    "from model import LSTM, LSTM_Attn\n",
    "from tqdm import tqdm\n",
    "from tqdm.notebook import tqdm_notebook\n",
    "import matplotlib.pyplot as plt\n",
    "from util import Tester"
   ]
  },
  {
   "cell_type": "markdown",
   "id": "eab7f7d5-2e0b-453e-b51a-d8ed13fbb877",
   "metadata": {},
   "source": [
    "# Load pretrained resnet"
   ]
  },
  {
   "cell_type": "code",
   "execution_count": 2,
   "id": "e1b4d86a-034f-41ea-9f93-a0f475a94b7e",
   "metadata": {},
   "outputs": [],
   "source": [
    "resnet18 = torchvision.models.resnet18(pretrained=True)\n",
    "modules = list(resnet18.children())[:5]\n",
    "img_encoder = nn.Sequential(*modules)\n",
    "img_encoder.eval()\n",
    "for p in img_encoder.parameters():\n",
    "    p.requires_grad = False\n"
   ]
  },
  {
   "cell_type": "markdown",
   "id": "281f4f64-38da-4771-b33a-718255cda5c0",
   "metadata": {},
   "source": [
    "# Train"
   ]
  },
  {
   "cell_type": "code",
   "execution_count": 3,
   "id": "257981ce-85fc-4630-9bdc-2bfac254d868",
   "metadata": {},
   "outputs": [
    {
     "name": "stderr",
     "output_type": "stream",
     "text": [
      "  0%|                                                 | 0/80000 [00:00<?, ?it/s][W NNPACK.cpp:51] Could not initialize NNPACK! Reason: Unsupported hardware.\n",
      "100%|█████████████████████████████████████| 80000/80000 [15:17<00:00, 87.16it/s]\n"
     ]
    }
   ],
   "source": [
    "lr = 1e-3\n",
    "\n",
    "agent = LSTM_Attn(hidden_size=256)\n",
    "optimizer = torch.optim.RMSprop(agent.parameters(), lr=lr)\n",
    "\n",
    "criterion = nn.CrossEntropyLoss()\n",
    "\n",
    "losses = []\n",
    "n_train = 80000\n",
    "\n",
    "agent.train()\n",
    "mem_state = agent.get_init_states()\n",
    "for i in tqdm(range(n_train)):\n",
    "    task = MazeEnv()\n",
    "    solution = task.get_solution()\n",
    "    if solution == None:\n",
    "        continue\n",
    "    mem_state = mem_state[0].detach(), mem_state[1].detach()\n",
    "    p_action = torch.zeros([1, 1, 4])\n",
    "    loss = 0\n",
    "    for target in solution:\n",
    "        img = task.img().unsqueeze(0)  # [1, 3, length, length]\n",
    "        # feature = img_encoder(img).view(1, 1, -1)\n",
    "        img = img_encoder(img)\n",
    "        logit, mem_state = agent(img, p_action, mem_state)\n",
    "        logit = logit.squeeze(0)\n",
    "        \n",
    "        loss += criterion(logit, torch.tensor([target]))\n",
    "        \n",
    "        p_action = torch.eye(4)[int(target)].view(1, 1, -1)\n",
    "        task.step(int(target))\n",
    "        \n",
    "    losses.append(loss.detach())\n",
    "    optimizer.zero_grad()\n",
    "    loss.backward(retain_graph=True)\n",
    "    optimizer.step()\n",
    "    \n",
    "    if (i + 1) % 1000 == 0:\n",
    "        torch.save(agent.state_dict(), 'checkpoint/rnn_%d_1e3' % (i + 1))\n",
    "        "
   ]
  },
  {
   "cell_type": "code",
   "execution_count": 4,
   "id": "e515c215-3b0a-427c-8d66-ecd117bcb6b6",
   "metadata": {},
   "outputs": [
    {
     "data": {
      "text/plain": [
       "[<matplotlib.lines.Line2D at 0x7fb8d35c42e0>]"
      ]
     },
     "execution_count": 4,
     "metadata": {},
     "output_type": "execute_result"
    },
    {
     "data": {
      "image/png": "[encoded data removed]",
      "text/plain": [
       "<Figure size 432x288 with 1 Axes>"
      ]
     },
     "metadata": {
      "needs_background": "light"
     },
     "output_type": "display_data"
    }
   ],
   "source": [
    "plt.plot(losses)"
   ]
  },
  {
   "cell_type": "markdown",
   "id": "00147468-3cac-49d6-a4b7-ced3a44af126",
   "metadata": {},
   "source": [
    "# Test\n",
    "Random model: 4%"
   ]
  },
  {
   "cell_type": "code",
   "execution_count": 32,
   "id": "7a52983e-5265-4e76-9008-059435ec2f43",
   "metadata": {},
   "outputs": [],
   "source": [
    "testset = [MazeEnv() for _ in range(100)]"
   ]
  },
  {
   "cell_type": "code",
   "execution_count": 31,
   "id": "5efba844-b507-446d-aace-82a387d5ffe7",
   "metadata": {},
   "outputs": [
    {
     "name": "stderr",
     "output_type": "stream",
     "text": [
      "100%|█████████████████████████████████████████| 100/100 [00:01<00:00, 66.12it/s]"
     ]
    },
    {
     "name": "stdout",
     "output_type": "stream",
     "text": [
      "Success rate 6.00%\n"
     ]
    },
    {
     "name": "stderr",
     "output_type": "stream",
     "text": [
      "\n"
     ]
    }
   ],
   "source": [
    "agent = LSTM_Attn(hidden_size=256)\n",
    "# path = 'checkpoint/rnn_19000'\n",
    "# agent.load_state_dict(torch.load(path))\n",
    "agent.eval()\n",
    "\n",
    "limit = 15\n",
    "correct = 0\n",
    "n_test = 100\n",
    "for task in tqdm(testset):\n",
    "    mem_state = agent.get_init_states()\n",
    "    p_action = torch.zeros([1, 1, 4])\n",
    "    for _ in range(limit):\n",
    "        img = task.img().unsqueeze(0)\n",
    "        # feature = img_encoder(img).view(1, 1, -1)\n",
    "        img = img_encoder(img)\n",
    "        logit, mem_state = agent(img, p_action, mem_state)\n",
    "        # logit = logit.squeeze(0)\n",
    "        # prob = F.softmax(logit, dim=-1)\n",
    "        # action = prob.multinomial(num_samples=1).item()      \n",
    "        logit = logit.flatten()\n",
    "        action = logit.argmax().item()\n",
    "        reward = task.step(action)\n",
    "        if reward == 0:\n",
    "            correct += 1\n",
    "            break\n",
    "        p_action = torch.eye(4)[action].view(1, 1, -1)\n",
    "    task.reset()\n",
    "print('Success rate %.2f%%' % (correct / len(testset) * 100) )\n",
    "        "
   ]
  },
  {
   "cell_type": "markdown",
   "id": "d12591e6-ee2d-4932-82f5-9965d23427de",
   "metadata": {},
   "source": [
    "## Performance with training epochs"
   ]
  },
  {
   "cell_type": "code",
   "execution_count": 25,
   "id": "b6deeede-5e8f-4985-832b-2eb4340324ac",
   "metadata": {},
   "outputs": [],
   "source": [
    "testset = [MazeEnv(length=5) for _ in range(100)]"
   ]
  },
  {
   "cell_type": "code",
   "execution_count": 26,
   "id": "9c1ba23b-fa81-46ff-a768-527a953d7b4f",
   "metadata": {},
   "outputs": [
    {
     "name": "stderr",
     "output_type": "stream",
     "text": [
      "100%|███████████████████████████████████████████| 20/20 [00:28<00:00,  1.43s/it]\n"
     ]
    },
    {
     "data": {
      "text/plain": [
       "[<matplotlib.lines.Line2D at 0x7fb8e2365df0>]"
      ]
     },
     "execution_count": 26,
     "metadata": {},
     "output_type": "execute_result"
    },
    {
     "data": {
      "image/png": "[encoded data removed]",
      "text/plain": [
       "<Figure size 432x288 with 1 Axes>"
      ]
     },
     "metadata": {
      "needs_background": "light"
     },
     "output_type": "display_data"
    }
   ],
   "source": [
    "import os.path\n",
    "\n",
    "\n",
    "accs = []\n",
    "for i in tqdm(range(20)):\n",
    "    agent = LSTM_Attn(hidden_size=256)\n",
    "    path = 'checkpoint/rnn_%d' % ((i + 1) * 1000)\n",
    "    if os.path.exists(path):\n",
    "        agent.load_state_dict(torch.load(path))\n",
    "        tester = Tester(img_encoder, agent, testset)\n",
    "        accs.append(tester.run())\n",
    "\n",
    "plt.plot(accs)"
   ]
  },
  {
   "cell_type": "markdown",
   "id": "f303800f-ebeb-4c63-92cc-9af0ef6c2b02",
   "metadata": {},
   "source": [
    "# Other\n"
   ]
  },
  {
   "cell_type": "code",
   "execution_count": 14,
   "id": "8facafcd-2904-4c72-8f1a-b4d3de5210bf",
   "metadata": {},
   "outputs": [
    {
     "data": {
      "text/plain": [
       "False"
      ]
     },
     "execution_count": 14,
     "metadata": {},
     "output_type": "execute_result"
    }
   ],
   "source": [
    "import os.path\n",
    "\n",
    "os.path.exists('checkpoint/1e3')"
   ]
  }
 ],
 "metadata": {
  "kernelspec": {
   "display_name": "Python 3 (ipykernel)",
   "language": "python",
   "name": "python3"
  },
  "language_info": {
   "codemirror_mode": {
    "name": "ipython",
    "version": 3
   },
   "file_extension": ".py",
   "mimetype": "text/x-python",
   "name": "python",
   "nbconvert_exporter": "python",
   "pygments_lexer": "ipython3",
   "version": "3.8.13"
  }
 },
 "nbformat": 4,
 "nbformat_minor": 5
}
