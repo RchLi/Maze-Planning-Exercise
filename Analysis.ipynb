{
 "cells": [
  {
   "cell_type": "code",
   "execution_count": 1,
   "id": "45bd5db8-ab3e-49a3-9884-ee875dcfb30b",
   "metadata": {},
   "outputs": [],
   "source": [
    "import torch\n",
    "import torchvision\n",
    "from torch.nn import functional as F\n",
    "import torch.nn as nn\n",
    "from env import Name, MazeEnv\n",
    "from model import LSTM, LSTM_Attn\n",
    "from tqdm import tqdm\n",
    "from tqdm.notebook import tqdm_notebook\n",
    "import matplotlib.pyplot as plt\n",
    "from util import Tester\n",
    "from torchvision.transforms import Resize\n",
    "from torchvision.transforms import InterpolationMode\n",
    "import sklearn\n",
    "from sklearn.decomposition import PCA\n",
    "import numpy as np\n",
    "\n",
    "\n",
    "resnet18 = torchvision.models.resnet18(pretrained=True)\n",
    "modules = list(resnet18.children())[:5]\n",
    "img_encoder = nn.Sequential(*modules)\n",
    "img_encoder.eval()\n",
    "for p in img_encoder.parameters():\n",
    "    p.requires_grad = False\n"
   ]
  },
  {
   "cell_type": "markdown",
   "id": "7be20094-3e92-4002-829b-dc53e3a09b40",
   "metadata": {},
   "source": [
    "# PCA Analysis"
   ]
  },
  {
   "cell_type": "markdown",
   "id": "0fe9a51f-7e16-42c0-98af-442ba106b451",
   "metadata": {},
   "source": [
    "## Utility functions"
   ]
  },
  {
   "cell_type": "code",
   "execution_count": 2,
   "id": "b4f054d6-4473-49a3-a006-f2ee73133cbd",
   "metadata": {},
   "outputs": [],
   "source": [
    "map_act = {0: 'down', 1: 'up', 2: 'right', 3: 'left'}\n",
    "pca = PCA(n_components = 2)\n",
    "# given specific task, return hs and action seq\n",
    "def analysis(task, limit=5):\n",
    "    agent = LSTM_Attn(hidden_size=256, channel_size=64)\n",
    "    path = 'checkpoint/rnn_20000'\n",
    "    agent.load_state_dict(torch.load(path))\n",
    "    agent.eval()\n",
    "\n",
    "    hs = []\n",
    "    acts = []\n",
    "    mem_state = agent.get_init_states()\n",
    "    p_action = torch.zeros([1, 1, 4])\n",
    "    for _ in range(limit):\n",
    "        img = task.transform(task.img()).unsqueeze(0)\n",
    "        img = img_encoder(img)\n",
    "        logit, mem_state = agent(img, p_action, mem_state)  \n",
    "        logit = logit.flatten()\n",
    "        action = logit.argmax().item()\n",
    "        acts.append(action)\n",
    "        hs.append(mem_state[0].flatten().detach().numpy())\n",
    "        reward = task.step(action)\n",
    "        if reward == 0:\n",
    "            break\n",
    "        p_action = torch.eye(4)[action].view(1, 1, -1)\n",
    "    hs = np.stack(hs)\n",
    "    task.reset()\n",
    "    \n",
    "    return reward, acts, hs"
   ]
  },
  {
   "cell_type": "markdown",
   "id": "b6c4febb-0cd5-4641-8c48-63e044a56175",
   "metadata": {},
   "source": [
    "## Maze without walls"
   ]
  },
  {
   "cell_type": "code",
   "execution_count": 116,
   "id": "2d720465-8e4a-4dba-a4dc-831cf7383024",
   "metadata": {},
   "outputs": [
    {
     "data": {
      "text/plain": [
       "<matplotlib.image.AxesImage at 0x7fc18d1909a0>"
      ]
     },
     "execution_count": 116,
     "metadata": {},
     "output_type": "execute_result"
    },
    {
     "data": {
      "image/png": "[encoded data removed]",
      "text/plain": [
       "<Figure size 432x288 with 1 Axes>"
      ]
     },
     "metadata": {
      "needs_background": "light"
     },
     "output_type": "display_data"
    }
   ],
   "source": [
    "task = MazeEnv(length=3, resize=18)\n",
    "state = torch.ones(3, 3)\n",
    "state[0,0] = Name.current\n",
    "state[2,2] = Name.goal\n",
    "task.set_state(state)\n",
    "img = task.transform(task.img())\n",
    "plt.imshow(img.permute(1, 2, 0))"
   ]
  },
  {
   "cell_type": "code",
   "execution_count": 115,
   "id": "4520765d-acda-4c1e-92be-6b0e8358c08f",
   "metadata": {},
   "outputs": [
    {
     "name": "stdout",
     "output_type": "stream",
     "text": [
      "Succeed\n",
      "Actions: down->down->down->down->down->right\n"
     ]
    },
    {
     "data": {
      "image/png": "[encoded data removed]",
      "text/plain": [
       "<Figure size 432x288 with 1 Axes>"
      ]
     },
     "metadata": {
      "needs_background": "light"
     },
     "output_type": "display_data"
    }
   ],
   "source": [
    "reward, acts, hs = analysis(task, limit=15)\n",
    "print('Succeed' if reward == 0 else 'Failed')\n",
    "act_seq = '->'.join([map_act[i] for i in acts])\n",
    "print('Actions: ' + act_seq)\n",
    "\n",
    "pca.fit(hs)\n",
    "x = pca.transform(hs)\n",
    "idx = list(range(len(hs)))\n",
    "plt.scatter(x[:, 0], x[:, 1], c=idx, cmap='viridis', s=200)\n",
    "plt.savefig('pca_wo_wall')"
   ]
  },
  {
   "cell_type": "markdown",
   "id": "0ee45947-3a48-48e4-b9bb-5513eca82b08",
   "metadata": {},
   "source": [
    "## Maze with walls"
   ]
  },
  {
   "cell_type": "code",
   "execution_count": 109,
   "id": "f2e8def0-51f5-4940-81be-d43aa39e55db",
   "metadata": {},
   "outputs": [
    {
     "data": {
      "image/png": "[encoded data removed]",
      "text/plain": [
       "<Figure size 432x288 with 1 Axes>"
      ]
     },
     "metadata": {
      "needs_background": "light"
     },
     "output_type": "display_data"
    }
   ],
   "source": [
    "task = MazeEnv(length=3, resize=18)\n",
    "state = torch.ones(3, 3)\n",
    "state[0,0] = Name.current\n",
    "state[2,2] = Name.goal\n",
    "state[1,0] = Name.wall\n",
    "#state[1,1] = Name.wall\n",
    "task.set_state(state)\n",
    "img = task.transform(task.img())\n",
    "plt.imshow(img.permute(1, 2, 0))\n",
    "plt.savefig('maze_w_wall')"
   ]
  },
  {
   "cell_type": "code",
   "execution_count": 110,
   "id": "76e19a56-4c7a-4f7f-a098-f0bfd724c4e9",
   "metadata": {},
   "outputs": [
    {
     "name": "stdout",
     "output_type": "stream",
     "text": [
      "Succeed\n",
      "Actions: right->down->down->right\n"
     ]
    },
    {
     "data": {
      "image/png": "[encoded data removed]",
      "text/plain": [
       "<Figure size 432x288 with 1 Axes>"
      ]
     },
     "metadata": {
      "needs_background": "light"
     },
     "output_type": "display_data"
    }
   ],
   "source": [
    "reward, acts, hs = analysis(task)\n",
    "print('Succeed' if reward == 0 else 'Failed')\n",
    "act_seq = '->'.join([map_act[i] for i in acts])\n",
    "print('Actions: ' + act_seq)\n",
    "\n",
    "pca.fit(hs)\n",
    "x = pca.transform(hs)\n",
    "idx = list(range(len(hs)))\n",
    "plt.scatter(x[:, 0], x[:, 1], c=idx, cmap='viridis', s=200)\n",
    "plt.savefig('pca_w_wall')"
   ]
  },
  {
   "cell_type": "markdown",
   "id": "f0c3cbc4-3f30-4f58-a95a-8a2b5bff1930",
   "metadata": {},
   "source": [
    "## Blocked Maze"
   ]
  },
  {
   "cell_type": "code",
   "execution_count": 11,
   "id": "a6e8021e-e23d-4ef8-a086-ab8b99d03eca",
   "metadata": {},
   "outputs": [
    {
     "data": {
      "image/png": "[encoded data removed]",
      "text/plain": [
       "<Figure size 432x288 with 1 Axes>"
      ]
     },
     "metadata": {
      "needs_background": "light"
     },
     "output_type": "display_data"
    }
   ],
   "source": [
    "task = MazeEnv(length=3, resize=18)\n",
    "state = torch.ones(3, 3)\n",
    "state[0,0] = Name.current\n",
    "state[2,2] = Name.goal\n",
    "state[1,0] = Name.wall\n",
    "state[1,1] = Name.wall\n",
    "state[1,2] = Name.wall\n",
    "task.set_state(state)\n",
    "img = task.transform(task.img())\n",
    "plt.imshow(img.permute(1, 2, 0))\n",
    "plt.savefig('maze_blocked')"
   ]
  },
  {
   "cell_type": "code",
   "execution_count": 12,
   "id": "d12a8227-9881-4a69-8158-624d56f0b601",
   "metadata": {},
   "outputs": [
    {
     "name": "stdout",
     "output_type": "stream",
     "text": [
      "Failed\n",
      "Actions: right->right->right->right->right->right\n"
     ]
    },
    {
     "data": {
      "image/png": "[encoded data removed]",
      "text/plain": [
       "<Figure size 432x288 with 1 Axes>"
      ]
     },
     "metadata": {
      "needs_background": "light"
     },
     "output_type": "display_data"
    }
   ],
   "source": [
    "reward, acts, hs = analysis(task, limit=6)\n",
    "print('Succeed' if reward == 0 else 'Failed')\n",
    "act_seq = '->'.join([map_act[i] for i in acts])\n",
    "print('Actions: ' + act_seq)\n",
    "\n",
    "pca.fit(hs)\n",
    "x = pca.transform(hs)\n",
    "idx = list(range(len(hs)))\n",
    "plt.scatter(x[:, 0], x[:, 1], c=idx, cmap='viridis', s=200)\n",
    "plt.savefig('pca_blocked')"
   ]
  },
  {
   "cell_type": "markdown",
   "id": "b9a578dd-2292-43fd-9a20-4e9ab623f200",
   "metadata": {},
   "source": [
    "## Large Maze"
   ]
  },
  {
   "cell_type": "code",
   "execution_count": 72,
   "id": "c1b3d62f-3a1a-44bd-ba76-f87ac792b58c",
   "metadata": {},
   "outputs": [
    {
     "data": {
      "image/png": "[encoded data removed]",
      "text/plain": [
       "<Figure size 432x288 with 1 Axes>"
      ]
     },
     "metadata": {
      "needs_background": "light"
     },
     "output_type": "display_data"
    }
   ],
   "source": [
    "task = MazeEnv(length=9, resize=36)\n",
    "img = task.transform(task.img())\n",
    "plt.imshow(img.permute(1, 2, 0))\n",
    "plt.savefig('maze_large')"
   ]
  },
  {
   "cell_type": "code",
   "execution_count": 77,
   "id": "301825e4-9de1-481a-8681-62e19b5f9494",
   "metadata": {},
   "outputs": [
    {
     "name": "stdout",
     "output_type": "stream",
     "text": [
      "Succeed\n",
      "Actions: down->left->left->left->left->left->left->left->left->left->left->left->left->left->left->up->up->up->right->right\n"
     ]
    },
    {
     "data": {
      "image/png": "[encoded data removed]",
      "text/plain": [
       "<Figure size 432x288 with 1 Axes>"
      ]
     },
     "metadata": {
      "needs_background": "light"
     },
     "output_type": "display_data"
    }
   ],
   "source": [
    "reward, acts, hs = analysis(task, limit=20)\n",
    "print('Succeed' if reward == 0 else 'Failed')\n",
    "act_seq = '->'.join([map_act[i] for i in acts])\n",
    "print('Actions: ' + act_seq)\n",
    "\n",
    "pca.fit(hs)\n",
    "x = pca.transform(hs)\n",
    "idx = list(range(len(hs)))\n",
    "plt.scatter(x[:, 0], x[:, 1], c=idx, cmap='viridis', s=200)\n",
    "plt.savefig('pca_large')"
   ]
  }
 ],
 "metadata": {
  "kernelspec": {
   "display_name": "Python 3 (ipykernel)",
   "language": "python",
   "name": "python3"
  },
  "language_info": {
   "codemirror_mode": {
    "name": "ipython",
    "version": 3
   },
   "file_extension": ".py",
   "mimetype": "text/x-python",
   "name": "python",
   "nbconvert_exporter": "python",
   "pygments_lexer": "ipython3",
   "version": "3.8.13"
  }
 },
 "nbformat": 4,
 "nbformat_minor": 5
}
